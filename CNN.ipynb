{
 "cells": [
  {
   "cell_type": "code",
   "execution_count": 27,
   "metadata": {},
   "outputs": [],
   "source": [
    "import matplotlib.pyplot as plt\n",
    "from PIL import Image\n",
    "import numpy as np\n",
    "import os"
   ]
  },
  {
   "cell_type": "code",
   "execution_count": 28,
   "metadata": {},
   "outputs": [
    {
     "data": {
      "text/plain": [
       "array([[[ 39,  44,  40],\n",
       "        [ 39,  44,  40],\n",
       "        [ 40,  44,  43],\n",
       "        ...,\n",
       "        [207, 204, 173],\n",
       "        [202, 199, 166],\n",
       "        [201, 198, 163]],\n",
       "\n",
       "       [[ 40,  45,  41],\n",
       "        [ 40,  45,  41],\n",
       "        [ 40,  44,  43],\n",
       "        ...,\n",
       "        [203, 200, 169],\n",
       "        [199, 196, 163],\n",
       "        [197, 194, 159]],\n",
       "\n",
       "       [[ 40,  45,  41],\n",
       "        [ 40,  45,  41],\n",
       "        [ 40,  44,  43],\n",
       "        ...,\n",
       "        [199, 195, 166],\n",
       "        [199, 194, 164],\n",
       "        [199, 194, 162]],\n",
       "\n",
       "       ...,\n",
       "\n",
       "       [[ 32,  30,  31],\n",
       "        [ 30,  28,  29],\n",
       "        [ 26,  24,  25],\n",
       "        ...,\n",
       "        [ 36,  23,  17],\n",
       "        [ 41,  30,  24],\n",
       "        [ 57,  46,  40]],\n",
       "\n",
       "       [[ 32,  30,  31],\n",
       "        [ 30,  28,  29],\n",
       "        [ 26,  24,  25],\n",
       "        ...,\n",
       "        [ 42,  29,  21],\n",
       "        [ 44,  34,  25],\n",
       "        [ 55,  45,  36]],\n",
       "\n",
       "       [[ 32,  30,  31],\n",
       "        [ 29,  27,  28],\n",
       "        [ 25,  23,  24],\n",
       "        ...,\n",
       "        [ 51,  38,  30],\n",
       "        [ 42,  32,  23],\n",
       "        [ 40,  30,  21]]], dtype=uint8)"
      ]
     },
     "execution_count": 28,
     "metadata": {},
     "output_type": "execute_result"
    }
   ],
   "source": [
    "plt.imread('training_set/cats/cat.1.jpg')"
   ]
  },
  {
   "cell_type": "code",
   "execution_count": 29,
   "metadata": {},
   "outputs": [
    {
     "name": "stdout",
     "output_type": "stream",
     "text": [
      "(280, 300, 3)\n"
     ]
    }
   ],
   "source": [
    "image = Image.open(\"training_set/cats/cat.1.jpg\")\n",
    "image_array = np.array(image)\n",
    "\n",
    "print(image_array.shape)  "
   ]
  },
  {
   "cell_type": "code",
   "execution_count": 30,
   "metadata": {},
   "outputs": [],
   "source": [
    "def convolution(image,fillter,padding=0,stride=1):\n",
    "    x_img = image.shape[0]\n",
    "    y_img = image.shape[1]\n",
    "    d_img = image.shape[2]\n",
    "\n",
    "    [x_filter , y_filter] = fillter.shape\n",
    "\n",
    "    x_output = int(((x_img-x_filter+(2*padding))/stride)+1)\n",
    "    y_output = int(((y_img-y_filter+(2*padding))/stride)+1)\n",
    "\n",
    "    output = np.zeros((x_output,y_output,d_img))\n",
    "\n",
    "    image_padded = np.zeros((x_img+2*padding,y_img+2*padding,d_img))\n",
    "    image_padded[int(padding):int(x_img+padding),int(padding):int(y_img+padding),:] = image\n",
    "\n",
    "    for d in range(d_img):\n",
    "        for y in range(y_output):\n",
    "            for x in range(x_output):\n",
    "\n",
    "                x_start = int(x*stride)\n",
    "                x_end = int(x*stride+x_filter)\n",
    "                y_start = int(y*stride)\n",
    "                y_end = int(y*stride+y_filter)\n",
    "\n",
    "                current_img = image_padded[x_start:x_end,y_start:y_end,d]\n",
    "                output[x,y,d] = np.sum(np.multiply(current_img,fillter))\n",
    "\n",
    "    return output"
   ]
  },
  {
   "cell_type": "code",
   "execution_count": 31,
   "metadata": {},
   "outputs": [],
   "source": [
    "fillter = np.zeros((2,2))\n",
    "out = convolution(image_array,fillter=fillter)"
   ]
  },
  {
   "cell_type": "code",
   "execution_count": 32,
   "metadata": {},
   "outputs": [
    {
     "data": {
      "text/plain": [
       "((279, 299, 3), np.float64(0.0))"
      ]
     },
     "execution_count": 32,
     "metadata": {},
     "output_type": "execute_result"
    }
   ],
   "source": [
    "out.shape,out[1,1,1]"
   ]
  },
  {
   "cell_type": "code",
   "execution_count": 33,
   "metadata": {},
   "outputs": [],
   "source": [
    "class read_scaled_images:\n",
    "    def read_scale(self,minibatch_size,ann_size):\n",
    "\n",
    "        path_cats = \"training_set/cats\"\n",
    "        path_dogs = \"training_set/dogs\"\n",
    "\n",
    "        images_of_cats = [c for c in os.listdir(path_cats) if c.endswith(('.png', '.jpg', '.jpeg'))]\n",
    "        images_of_dogs = [d for d in os.listdir(path_dogs) if d.endswith(('.png', '.jpg', '.jpeg'))]\n",
    "        all_images = np.array(np.hstack((images_of_cats,images_of_dogs)))\n",
    "\n",
    "        dogs = np.zeros(len(images_of_dogs))\n",
    "        cats = np.ones(len(images_of_cats))\n",
    "        all_class = np.array(np.hstack((cats,dogs)))\n",
    "\n",
    "        \n"
   ]
  }
 ],
 "metadata": {
  "kernelspec": {
   "display_name": "venv",
   "language": "python",
   "name": "python3"
  },
  "language_info": {
   "codemirror_mode": {
    "name": "ipython",
    "version": 3
   },
   "file_extension": ".py",
   "mimetype": "text/x-python",
   "name": "python",
   "nbconvert_exporter": "python",
   "pygments_lexer": "ipython3",
   "version": "3.12.3"
  }
 },
 "nbformat": 4,
 "nbformat_minor": 2
}
